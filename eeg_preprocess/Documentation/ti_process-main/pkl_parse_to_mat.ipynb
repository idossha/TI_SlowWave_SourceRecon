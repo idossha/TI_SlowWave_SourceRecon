{
 "cells": [
  {
   "cell_type": "code",
   "execution_count": 47,
   "id": "8b11e784-ec69-4822-a706-b82d22b0fcf9",
   "metadata": {},
   "outputs": [],
   "source": [
    "import os\n",
    "import pickle as pkl\n",
    "from scipy.io import savemat\n",
    "\n",
    "subj = '101'\n",
    "sess = 'N1'\n",
    "\n",
    "pkl_path = 'C:\\\\Users\\\\elschaeffer\\\\repo\\\\ti\\\\STRENGTHEN\\\\' + subj + '\\\\' + sess + '\\\\stim\\\\Strength_' + subj + '_sessionN1_metadata.p'\n",
    "save_path = 'C:\\\\Users\\\\elschaeffer\\\\repo\\\\ti\\\\STRENGTHEN\\\\' + subj + '\\\\' + sess + '\\\\stim\\\\ind_protos'\n",
    "if not os.path.exists(save_path):\n",
    "    os.mkdir(save_path)\n",
    "\n",
    "with open(pkl_path, 'rb') as f:\n",
    "    d = pkl.load(f)\n",
    "\n",
    "    for proto in d:\n",
    "        for chan in d[proto]['chan_data']:   \n",
    "            data_out = dict();\n",
    "            data_out['proto_ind'] = d[proto]['proto_ind']\n",
    "            data_out['proto_type'] = d[proto]['proto_type']\n",
    "            data_out['proto_name'] = d[proto]['proto_name']\n",
    "            data_out['max_dur'] = d[proto]['max_dur']\n",
    "            data_out['ramp_up_dur'] = d[proto]['ramp_up_dur']\n",
    "            data_out['ramp_down_dur'] = d[proto]['ramp_down_dur']\n",
    "            data_out['num'] = d[proto]['chan_data'][chan]['num']\n",
    "            data_out['amp'] = d[proto]['chan_data'][chan]['amp']\n",
    "            data_out['freq'] = d[proto]['chan_data'][chan]['freq']\n",
    "            data_out['data_amp'] = d[proto]['chan_data'][chan]['data_amp']\n",
    "            data_out['data_imp'] = d[proto]['chan_data'][chan]['data_imp']\n",
    "            data_out['data_ts_plt'] = d[proto]['chan_data'][chan]['data_ts_plt']\n",
    "\n",
    "            t_s = d[proto]['chan_data'][chan]['data_ts_plt'][0]\n",
    "            t_s_H = float(t_s[0:2])\n",
    "            t_s_M = float(t_s[3:5])\n",
    "            t_s_S = float(t_s[6:len(t_s)])\n",
    "            t_s_total = t_s_H * 3600 + t_s_M * 60 + t_s_S\n",
    "\n",
    "            t_e = d[proto]['chan_data'][chan]['data_ts_plt'][-1]\n",
    "            t_e_H = float(t_e[0:2])\n",
    "            t_e_M = float(t_e[3:5])\n",
    "            t_e_S = float(t_e[6:len(t_e)])\n",
    "            t_e_total = t_e_H * 3600 + t_e_M * 60 + t_e_S\n",
    "\n",
    "            data_out['duration'] = round(t_e_total - t_s_total,3)\n",
    "            data_out['start_time'] = t_s\n",
    "            data_out['end_time'] = t_e\n",
    "        \n",
    "            savemat(os.path.join(save_path, 'proto_' + str(d[proto]['proto_ind'][0]) + '_chan_' + str(chan) + '_metadata.mat'), data_out)\n",
    "    "
   ]
  }
 ],
 "metadata": {
  "kernelspec": {
   "display_name": "Python 3 (ipykernel)",
   "language": "python",
   "name": "python3"
  },
  "language_info": {
   "codemirror_mode": {
    "name": "ipython",
    "version": 3
   },
   "file_extension": ".py",
   "mimetype": "text/x-python",
   "name": "python",
   "nbconvert_exporter": "python",
   "pygments_lexer": "ipython3",
   "version": "3.11.7"
  }
 },
 "nbformat": 4,
 "nbformat_minor": 5
}
